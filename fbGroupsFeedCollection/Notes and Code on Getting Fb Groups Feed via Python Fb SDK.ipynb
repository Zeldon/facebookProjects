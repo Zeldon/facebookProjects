{
 "cells": [
  {
   "cell_type": "code",
   "execution_count": 1,
   "metadata": {
    "collapsed": true
   },
   "outputs": [],
   "source": [
    "import facebook\n",
    "import json\n",
    "import csv"
   ]
  },
  {
   "cell_type": "raw",
   "metadata": {},
   "source": [
    "# need to install facebook-sdk package via pip\n",
    "# documentation can be found at https://facebook-sdk.readthedocs.io/en/latest/"
   ]
  },
  {
   "cell_type": "code",
   "execution_count": 4,
   "metadata": {
    "collapsed": false
   },
   "outputs": [],
   "source": [
    "# Test API response\n",
    "\n",
    "# Get token from fb graph explorer or permanent token\n",
    "# graph = facebook.GraphAPI(access_token='your_token', version='2.9')\n",
    "graph = facebook.GraphAPI(access_token='EAACEdEose0cBAJlMdkx5qcQCKENKgBXBKwZC3wSBajecpoOaWFeKogglLq59ZBdWTlP42Kxqtzhci1ewZBH2W3UvIk9PdP3B1mgjZC7ojb3n0tXf163CSFdmtwUwkf1D04ZCnnBIrs7FpQXCvqhcF5LuksA0oeHzNoA8HVqhuWhO5Km7oZCAiddcy5cPzkbYcZD', version='2.9') "
   ]
  },
  {
   "cell_type": "code",
   "execution_count": 35,
   "metadata": {
    "collapsed": false
   },
   "outputs": [],
   "source": [
    "# Depending on version of fb graph API, your syntax will be slightly different. Recommend you play in Graph Explorer first\n",
    "\n",
    "# Group ID for DSSG is 157938781081987 (no biggy, can be found from public)\n",
    "# get_connections will get 25 latest items on the feed to show\n",
    "# get_all_connections will get everything in history but will output a generator\n",
    "feeds = graph.get_connections('157938781081987', \n",
    "                              'feed', fields='from,message,name,description,link,caption,created_time,likes')"
   ]
  },
  {
   "cell_type": "code",
   "execution_count": null,
   "metadata": {
    "collapsed": true
   },
   "outputs": [],
   "source": [
    "# List of Fields are represented as follows:\n",
    "\n",
    "# from = original of post of fb member (is a tuple with 'name' and 'id')\n",
    "# message = text from fb group member\n",
    "# name = Title of Article in the link\n",
    "# description = caption text in the article summarizing post\n",
    "# link = weblink of post\n",
    "# caption = main domain of post\n",
    "# created_time = post updated time\n",
    "# id = is the post id specific to fb"
   ]
  },
  {
   "cell_type": "code",
   "execution_count": 40,
   "metadata": {
    "collapsed": true
   },
   "outputs": [
    {
     "name": "stdout",
     "output_type": "stream",
     "text": [
      "id : 157938781081987_654672538075273\n",
      "from : {u'name': u'YuXuan Tay', u'id': u'10152311961385272'}\n",
      "message : \n",
      "name : Deep Learning for Semantic Segmentation of Aerial Imagery - Azavea - Beyond Dots on a Map\n",
      "description : This post describes Azavea's Raster Vision, a project using deep learning on computer vision tasks to understand and analyze aerial and satellite imagery.\n",
      "link : https://www.azavea.com/blog/2017/05/30/deep-learning-on-aerial-imagery/\n",
      "caption : azavea.com\n",
      "created_time : 2017-07-04T06:56:48+0000\n",
      "likes : \n",
      "\n",
      "id : 157938781081987_654569888085538\n",
      "from : {u'name': u'YuXuan Tay', u'id': u'10152311961385272'}\n",
      "message : \n",
      "name : Using Deep Learning to Reconstruct High-Resolution Audio\n",
      "description : Audio super-resolution aims to reconstruct a high-resolution audio waveform given a lower-resolution waveform as input. There are several…\n",
      "link : https://blog.insightdatascience.com/using-deep-learning-to-reconstruct-high-resolution-audio-29deee8b7ccd\n",
      "caption : blog.insightdatascience.com\n",
      "created_time : 2017-07-04T01:51:23+0000\n",
      "likes : {u'paging': {u'cursors': {u'after': u'MTAxNTIxOTQ0ODQ5Mzk4NTgZD', u'before': u'MTAyMDQ1MjUyNDU1NjMyOTAZD'}}, u'data': [{u'id': u'10204525245563290', u'name': u'Suebtas Limsaihua'}, {u'id': u'10152865702556715', u'name': u'CJ Lim'}, {u'id': u'668365103224262', u'name': u'Narin Ta'}, {u'id': u'10204003836126015', u'name': u'Zeldon Tay Yuzhong'}, {u'id': u'1023767730973041', u'name': u'Sharan Sunil'}, {u'id': u'10152194484939858', u'name': u'Koo Ping Shung'}]}\n",
      "\n",
      "id : 157938781081987_654568451419015\n",
      "from : {u'name': u'YuXuan Tay', u'id': u'10152311961385272'}\n",
      "message : \n",
      "name : How to build a data science pipeline – Towards Data Science – Medium\n",
      "description : Start with y. Concentrate on formalizing the predictive problem, building the workflow, and turning it into production rather than…\n",
      "link : https://medium.com/towards-data-science/how-to-build-a-data-science-pipeline-f24341848045\n",
      "caption : medium.com\n",
      "created_time : 2017-07-04T01:46:45+0000\n",
      "likes : {u'paging': {u'cursors': {u'after': u'MTAxNTIxOTQ0ODQ5Mzk4NTgZD', u'before': u'ODgyOTQwNjI4NDE2NjE0'}}, u'data': [{u'id': u'882940628416614', u'name': u'Saravanan Kalastha Sekar'}, {u'id': u'10204267638073570', u'name': u'Pak Ryu'}, {u'id': u'10202029679285548', u'name': u'Narukawin Jidtrengam'}, {u'id': u'4797338668380', u'name': u'Zarni Htet'}, {u'id': u'10153344708499161', u'name': u'Jeremy Loo Choon Boon'}, {u'id': u'10152798256332178', u'name': u'Cofefe Mate'}, {u'id': u'10152976729699005', u'name': u'Jonie Sua'}, {u'id': u'1415337905444678', u'name': u'Ahmad Faisal'}, {u'id': u'10152347648791416', u'name': u'Chew Kuo Ting Cliff'}, {u'id': u'10152194484939858', u'name': u'Koo Ping Shung'}]}\n",
      "\n",
      "id : 157938781081987_654467134762480\n",
      "from : {u'name': u'Sergey Zelvenskiy', u'id': u'10152791971614651'}\n",
      "message : \n",
      "name : Sergey\n",
      "description : New methods speed up your training with improved accuracy.\n",
      "\n",
      "link : https://hackernoon.com/training-your-deep-model-faster-and-sharper-e85076c3b047\n",
      "caption : \n",
      "created_time : 2017-07-03T20:38:47+0000\n",
      "likes : {u'paging': {u'cursors': {u'after': u'MTAxNTIzNDc2NDg3OTE0MTYZD', u'before': u'MTAxNTIzNDc2NDg3OTE0MTYZD'}}, u'data': [{u'id': u'10152347648791416', u'name': u'Chew Kuo Ting Cliff'}]}\n",
      "\n",
      "id : 157938781081987_654093271466533\n",
      "from : {u'name': u'Sergey Zelvenskiy', u'id': u'10152791971614651'}\n",
      "message : \n",
      "name : Sergey\n",
      "description : I don't usually post tweets, but this is so bad ass.\n",
      "link : https://twitter.com/karpathy/status/881720306066272257\n",
      "caption : \n",
      "created_time : 2017-07-03T05:43:15+0000\n",
      "likes : \n",
      "\n",
      "id : 157938781081987_654014938141033\n",
      "from : {u'name': u'Yuk-lin Ong', u'id': u'10204767466842385'}\n",
      "message : \n",
      "name : The Wall Street Journal\n",
      "description : A disquieting new world of high-tech government surveillance has arrived—in China. Facial-recognition systems are crunching data from ubiquitous cameras and shaming lawbreakers.\n",
      "link : http://on.wsj.com/2s8M5KQ\n",
      "caption : \n",
      "created_time : 2017-07-03T01:06:22+0000\n",
      "likes : {u'paging': {u'cursors': {u'after': u'MTAxNTUxMjU3NTIzNTU0NDEZD', u'before': u'MTAxNTUxMjU3NTIzNTU0NDEZD'}}, u'data': [{u'id': u'10155125752355441', u'name': u'Shawn Lim'}]}\n",
      "\n",
      "id : 157938781081987_654004411475419\n",
      "from : {u'name': u'Riza Marhaban', u'id': u'10152438608958399'}\n",
      "message : \n",
      "name : \n",
      "description : Understanding #MachineLearning and how it recognizes patterns http://soc.fm/XhtW18Th \n",
      "link : http://soc.fm/XhtW18Th\n",
      "caption : capacitybuildingdevelopment.blogspot.com\n",
      "created_time : 2017-07-03T00:34:03+0000\n",
      "likes : {u'paging': {u'cursors': {u'after': u'MTAxNTI4MzgwMTM5Mzg0ODYZD', u'before': u'MTAyMDI5Mzg5MTExNDA0NjAZD'}}, u'data': [{u'id': u'10202938911140460', u'name': u'Anthony Tham'}, {u'id': u'10152838013938486', u'name': u'Nont Banditwong'}]}\n",
      "\n",
      "id : 157938781081987_653972134811980\n",
      "from : {u'name': u'Wk Yeo', u'id': u'10152362115826944'}\n",
      "message : \n",
      "name : Alibaba: Building a retail ecosystem on data science, machine learning, and cloud | ZDNet\n",
      "description : What does it take to compete in a global arena in which retail and cloud are increasingly intertwined? Domain-specific data science and machine learning for the masses, according to Alibaba.\n",
      "link : https://www-zdnet-com.cdn.ampproject.org/c/www.zdnet.com/google-amp/article/alibaba-building-a-retail-ecosystem-on-data-science-artificial-intelligence-and-cloud/\n",
      "caption : zdnet.com\n",
      "created_time : 2017-07-02T22:44:09+0000\n",
      "likes : {u'paging': {u'cursors': {u'after': u'MTAyMDQ3Njc0NjY4NDIzODUZD', u'before': u'Njc5NjM3MzM4NzM3OTg0'}}, u'data': [{u'id': u'679637338737984', u'name': u'James Teo Kian Boon'}, {u'id': u'10204767466842385', u'name': u'Yuk-lin Ong'}]}\n",
      "\n",
      "id : 157938781081987_653857831490077\n",
      "from : {u'name': u'Ben Lorica', u'id': u'10153223318211823'}\n",
      "message : Building a next-generation platform for deep learning: a conversation with @NaveenGRao @IntelAI \n",
      "name : Building a next-generation platform for deep learning\n",
      "description : The O’Reilly Data Show Podcast: Naveen Rao on emerging hardware and software infrastructure for AI.\n",
      "link : https://goo.gl/D38fVz\n",
      "caption : oreilly.com\n",
      "created_time : 2017-07-02T16:33:10+0000\n",
      "likes : {u'paging': {u'cursors': {u'after': u'MTA2OTAzODQ2MzcxMTQ0', u'before': u'MTAxNTI2OTU0MjYxOTM0MjEZD'}}, u'data': [{u'id': u'10152695426193421', u'name': u'Ramesh Srinivasaraghavan'}, {u'id': u'106903846371144', u'name': u'Charin Polpanumas'}]}\n",
      "\n",
      "id : 157938781081987_653516078190919\n",
      "from : {u'name': u'Riza Marhaban', u'id': u'10152438608958399'}\n",
      "message : \n",
      "name : Microsoft squeezed AI onto a Raspberry Pi\n",
      "description : Tomorrow's AI: small and local.\n",
      "link : http://mashable.com/2017/06/29/microsoft-puts-ai-on-a-raspberry-pi/#7059P5nt4aqX\n",
      "caption : mashable.com\n",
      "created_time : 2017-07-01T23:44:57+0000\n",
      "likes : {u'paging': {u'cursors': {u'after': u'MTAyMDQ2NTg1MDQzNzE1MzgZD', u'before': u'NzY2Njc0NjgwMDY4MjIx'}, u'next': u'https://graph.facebook.com/v2.9/157938781081987_653516078190919/likes?access_token=EAACEdEose0cBAJlMdkx5qcQCKENKgBXBKwZC3wSBajecpoOaWFeKogglLq59ZBdWTlP42Kxqtzhci1ewZBH2W3UvIk9PdP3B1mgjZC7ojb3n0tXf163CSFdmtwUwkf1D04ZCnnBIrs7FpQXCvqhcF5LuksA0oeHzNoA8HVqhuWhO5Km7oZCAiddcy5cPzkbYcZD&limit=25&after=MTAyMDQ2NTg1MDQzNzE1MzgZD'}, u'data': [{u'id': u'766674680068221', u'name': u'Bruce Tan'}, {u'id': u'10152078933033775', u'name': u'Gavin Low'}, {u'id': u'10103962756580927', u'name': u'Grace Tang'}, {u'id': u'10204767466842385', u'name': u'Yuk-lin Ong'}, {u'id': u'10152107883538404', u'name': u'Pokpong Song'}, {u'id': u'10152615514247386', u'name': u'Durwin Ho'}, {u'id': u'10204402721842393', u'name': u'Lim Kim Huat'}, {u'id': u'10203848998245139', u'name': u'Ni\\xf1o Francisco Liwa'}, {u'id': u'10152462065602829', u'name': u'Teo Liang Wei'}, {u'id': u'10152068154001701', u'name': u'Sebastian Shen'}, {u'id': u'10152620311484177', u'name': u'Sakares Saengkaew'}, {u'id': u'10152176013571693', u'name': u'Effendi Baba'}, {u'id': u'10153287017884477', u'name': u'Pumjai Chatmaitri'}, {u'id': u'948971211833134', u'name': u'Neelkanth Avvari'}, {u'id': u'10153023520876385', u'name': u'Harry Chen'}, {u'id': u'10152588749539764', u'name': u'Chawalit Chaw Jeenanunta'}, {u'id': u'10206437622078136', u'name': u'Ivan Diaz Noriega'}, {u'id': u'10152201466702484', u'name': u'Lai Wei Song'}, {u'id': u'10203546723648158', u'name': u'Thai Pham Duong'}, {u'id': u'623235214474875', u'name': u'Uma Muthu'}, {u'id': u'10153240707655909', u'name': u'Daniel Tian'}, {u'id': u'10152929070789881', u'name': u'Marcus Koh Chi Hao'}, {u'id': u'10204151950060908', u'name': u'Prasanna Sudarsanan'}, {u'id': u'10152210193162131', u'name': u'Seow Yuxin'}, {u'id': u'10204658504371538', u'name': u'Nimrod Resulta'}]}\n",
      "\n",
      "id : 157938781081987_653503841525476\n",
      "from : {u'name': u'Wk Yeo', u'id': u'10152362115826944'}\n",
      "message : \n",
      "name : New Scientist\n",
      "description : An artificial intelligence has been developed that produces images in unconventional styles – and much of its output has already been given the thumbs up by members of the public\n",
      "link : http://bit.ly/2sYUTGh\n",
      "caption : \n",
      "created_time : 2017-07-01T23:03:38+0000\n",
      "likes : {u'paging': {u'cursors': {u'after': u'MTAxNTIwOTE0NjA1OTI1NjkZD', u'before': u'MTAxNTIwOTE0NjA1OTI1NjkZD'}}, u'data': [{u'id': u'10152091460592569', u'name': u'Brahim Hamadicharef'}]}\n",
      "\n",
      "id : 157938781081987_653160598226467\n",
      "from : {u'name': u'Wk Yeo', u'id': u'10152362115826944'}\n",
      "message : \n",
      "name : The New York Times\n",
      "description : China's internet may now offer a glimpse of the future — and American companies are taking notice.\n",
      "link : https://www.facebook.com/nytimes/videos/1882718595278987/\n",
      "caption : \n",
      "created_time : 2017-07-01T06:33:09+0000\n",
      "likes : {u'paging': {u'cursors': {u'after': u'MTAyMDQ0ODI2Mjk2NTE5NTMZD', u'before': u'MTAxNTI1MzA1MDcxMjg3NjQZD'}}, u'data': [{u'id': u'10152530507128764', u'name': u'Newson Ng'}, {u'id': u'10152936968215701', u'name': u'Tim Scarfe'}, {u'id': u'10152462065602829', u'name': u'Teo Liang Wei'}, {u'id': u'10152102130167831', u'name': u'Mike Ang'}, {u'id': u'10152347648791416', u'name': u'Chew Kuo Ting Cliff'}, {u'id': u'10202231761859143', u'name': u'Long Nguyen'}, {u'id': u'10204482629651953', u'name': u'Hooi Yee'}]}\n",
      "\n",
      "id : 157938781081987_653130831562777\n",
      "from : {u'name': u'Wk Yeo', u'id': u'10152362115826944'}\n",
      "message : \n",
      "name : Andrew Ng, Google Brain, Baidu; Coursera, Stanford University\n",
      "description : Fireside Chat with Andrew Ng, Founder, Google Brain; Chief Scientist, Baidu; Co-Founder, Coursera; Adjunct Professor, Stanford University. Moderator: Alex We...\n",
      "link : https://www.youtube.com/attribution_link?a=0XK1v8RiLbU&u=%2Fwatch%3Fv%3DPS9MELl8vLQ%26feature%3Dshare\n",
      "caption : youtube.com\n",
      "created_time : 2017-07-01T04:46:22+0000\n",
      "likes : {u'paging': {u'cursors': {u'after': u'MTAxNTIzNDc2NDg3OTE0MTYZD', u'before': u'NzQ0MTkzNDQyMjc4NTc5'}}, u'data': [{u'id': u'744193442278579', u'name': u'Phawis Hi Thammasorn'}, {u'id': u'10204856296140703', u'name': u'Tan Chang Sheng'}, {u'id': u'10152455755567189', u'name': u'Jesmer Wong'}, {u'id': u'10202262034088086', u'name': u'Jacky Chan'}, {u'id': u'10152347648791416', u'name': u'Chew Kuo Ting Cliff'}]}\n",
      "\n",
      "id : 157938781081987_653118634897330\n",
      "from : {u'name': u'Riza Marhaban', u'id': u'10152438608958399'}\n",
      "message : \n",
      "name : R 3.4.1 \"Single Candle\" released\n",
      "description : The R core team announced today the release of R 3.4.1 (codename: Single Candle). This release fixes...\n",
      "link : http://soc.fm/FT5taFhv\n",
      "caption : blog.revolutionanalytics.com\n",
      "created_time : 2017-07-01T04:00:26+0000\n",
      "likes : {u'paging': {u'cursors': {u'after': u'MTAxNTIwOTE0NjA1OTI1NjkZD', u'before': u'Mzg3MTYxMjkxNDg3Mjgx'}}, u'data': [{u'id': u'387161291487281', u'name': u'Pallab Bhattacharya'}, {u'id': u'10152091460592569', u'name': u'Brahim Hamadicharef'}]}\n",
      "\n",
      "id : 157938781081987_653095568232970\n",
      "from : {u'name': u'Annalyn Ng', u'id': u'10153245235061945'}\n",
      "message : 'Today, we are releasing two large-scale video datasets (256,591 labeled videos) to teach machines visual common sense. The first dataset allows machines to develop a fine-grained understanding of basic actions that occur in the physical world. The second dataset of dynamic hand gestures enables robust cognition models for human-computer interaction.'\n",
      "name : Learning about the world through video – twentybn – Medium\n",
      "description : At TwentyBN, we build AI systems that enable a human-like visual understanding of the world. Today, we are releasing two large-scale video…\n",
      "link : https://medium.com/twentybn/learning-about-the-world-through-video-4db73785ac02\n",
      "caption : medium.com\n",
      "created_time : 2017-07-01T03:02:42+0000\n",
      "likes : {u'paging': {u'cursors': {u'after': u'MTAyMDIwMTY2MjkyNzc1OTQZD', u'before': u'MTAxNTI5OTc3NzE3NzU2ODAZD'}}, u'data': [{u'id': u'10152997771775680', u'name': u'Chi-Loong Chan'}, {u'id': u'10152815107494129', u'name': u'Abhishek Roy'}, {u'id': u'1458028304497850', u'name': u'Dechao Chen'}, {u'id': u'10152695426193421', u'name': u'Ramesh Srinivasaraghavan'}, {u'id': u'1369846483029682', u'name': u'Sp Prabha'}, {u'id': u'10205268071961647', u'name': u'Eileen Tan'}, {u'id': u'10202938911140460', u'name': u'Anthony Tham'}, {u'id': u'10152091460592569', u'name': u'Brahim Hamadicharef'}, {u'id': u'10202262034088086', u'name': u'Jacky Chan'}, {u'id': u'10152107285218590', u'name': u'Tracy Wong'}, {u'id': u'514671062007154', u'name': u'Indradjit Dimjati'}, {u'id': u'1023767730973041', u'name': u'Sharan Sunil'}, {u'id': u'10152568470066169', u'name': u'Jason T Widjaja'}, {u'id': u'10152347648791416', u'name': u'Chew Kuo Ting Cliff'}, {u'id': u'10153345892409308', u'name': u'Cedric Yau'}, {u'id': u'10204003836126015', u'name': u'Zeldon Tay Yuzhong'}, {u'id': u'10152068379056453', u'name': u'Natthaphong Phuntusil'}, {u'id': u'10152194484939858', u'name': u'Koo Ping Shung'}, {u'id': u'10202016629277594', u'name': u'Nicholas Wong'}]}\n",
      "\n",
      "id : 157938781081987_653095521566308\n",
      "from : {u'name': u'Wk Yeo', u'id': u'10152362115826944'}\n",
      "message : \n",
      "name : 9 Mistakes to Avoid When Starting Your Career in Data Science\n",
      "description : If you wish to begin a career in data science, you can save yourself days, weeks, or even months of frustration by avoiding these 9 costly beginner mistakes. If you’re not careful, these mistakes will eat away at your most valuable resources: your time, energy, and motivation. We’ve broken them into...\n",
      "link : https://elitedatascience.com/beginner-mistakes\n",
      "caption : elitedatascience.com\n",
      "created_time : 2017-07-01T03:02:37+0000\n",
      "likes : {u'paging': {u'cursors': {u'after': u'Njc5NjM3MzM4NzM3OTg0', u'before': u'MTAyMDQ3Njc0NjY4NDIzODUZD'}}, u'data': [{u'id': u'10204767466842385', u'name': u'Yuk-lin Ong'}, {u'id': u'10153995861410224', u'name': u'Sreemanee Raaj'}, {u'id': u'948971211833134', u'name': u'Neelkanth Avvari'}, {u'id': u'10208896283544400', u'name': u'Feifei Zhang'}, {u'id': u'10152301666263983', u'name': u'Tiravat Assavapokee'}, {u'id': u'10204856296140703', u'name': u'Tan Chang Sheng'}, {u'id': u'10202262034088086', u'name': u'Jacky Chan'}, {u'id': u'714637685318831', u'name': u'Ashley Lee'}, {u'id': u'761628483848241', u'name': u'\\u6797\\u8000\\u8f1d'}, {u'id': u'1023767730973041', u'name': u'Sharan Sunil'}, {u'id': u'10153285193041834', u'name': u'Nthony Lim'}, {u'id': u'679637338737984', u'name': u'James Teo Kian Boon'}]}\n",
      "\n",
      "id : 157938781081987_653090048233522\n",
      "from : {u'name': u'Annalyn Ng', u'id': u'10153245235061945'}\n"
     ]
    },
    {
     "ename": "UnicodeEncodeError",
     "evalue": "'ascii' codec can't encode character u'\\u2019' in position 7: ordinal not in range(128)",
     "output_type": "error",
     "traceback": [
      "\u001b[0;31m---------------------------------------------------------------------------\u001b[0m",
      "\u001b[0;31mUnicodeEncodeError\u001b[0m                        Traceback (most recent call last)",
      "\u001b[0;32m<ipython-input-40-78e37186e750>\u001b[0m in \u001b[0;36m<module>\u001b[0;34m()\u001b[0m\n\u001b[1;32m      3\u001b[0m     \u001b[1;32mprint\u001b[0m \u001b[1;34m\"id : {0}\"\u001b[0m\u001b[1;33m.\u001b[0m\u001b[0mformat\u001b[0m\u001b[1;33m(\u001b[0m\u001b[0mi\u001b[0m\u001b[1;33m.\u001b[0m\u001b[0mget\u001b[0m\u001b[1;33m(\u001b[0m\u001b[1;34m'id'\u001b[0m\u001b[1;33m,\u001b[0m\u001b[1;34m''\u001b[0m\u001b[1;33m)\u001b[0m\u001b[1;33m)\u001b[0m\u001b[1;33m\u001b[0m\u001b[0m\n\u001b[1;32m      4\u001b[0m     \u001b[1;32mprint\u001b[0m \u001b[1;34m\"from : {0}\"\u001b[0m\u001b[1;33m.\u001b[0m\u001b[0mformat\u001b[0m\u001b[1;33m(\u001b[0m\u001b[0mi\u001b[0m\u001b[1;33m.\u001b[0m\u001b[0mget\u001b[0m\u001b[1;33m(\u001b[0m\u001b[1;34m'from'\u001b[0m\u001b[1;33m,\u001b[0m\u001b[1;34m''\u001b[0m\u001b[1;33m)\u001b[0m\u001b[1;33m)\u001b[0m\u001b[1;33m\u001b[0m\u001b[0m\n\u001b[0;32m----> 5\u001b[0;31m     \u001b[1;32mprint\u001b[0m \u001b[1;34m\"message : {0}\"\u001b[0m\u001b[1;33m.\u001b[0m\u001b[0mformat\u001b[0m\u001b[1;33m(\u001b[0m\u001b[0mi\u001b[0m\u001b[1;33m.\u001b[0m\u001b[0mget\u001b[0m\u001b[1;33m(\u001b[0m\u001b[1;34m'message'\u001b[0m\u001b[1;33m,\u001b[0m\u001b[1;34m''\u001b[0m\u001b[1;33m)\u001b[0m\u001b[1;33m)\u001b[0m\u001b[1;33m\u001b[0m\u001b[0m\n\u001b[0m\u001b[1;32m      6\u001b[0m     \u001b[1;32mprint\u001b[0m \u001b[1;34m\"name : {0}\"\u001b[0m\u001b[1;33m.\u001b[0m\u001b[0mformat\u001b[0m\u001b[1;33m(\u001b[0m\u001b[0mi\u001b[0m\u001b[1;33m.\u001b[0m\u001b[0mget\u001b[0m\u001b[1;33m(\u001b[0m\u001b[1;34m'name'\u001b[0m\u001b[1;33m,\u001b[0m\u001b[1;34m''\u001b[0m\u001b[1;33m)\u001b[0m\u001b[1;33m.\u001b[0m\u001b[0mencode\u001b[0m\u001b[1;33m(\u001b[0m\u001b[1;34m'utf-8'\u001b[0m\u001b[1;33m,\u001b[0m\u001b[1;34m'ignore'\u001b[0m\u001b[1;33m)\u001b[0m\u001b[1;33m)\u001b[0m\u001b[1;33m\u001b[0m\u001b[0m\n\u001b[1;32m      7\u001b[0m     \u001b[1;32mprint\u001b[0m \u001b[1;34m\"description : {0}\"\u001b[0m\u001b[1;33m.\u001b[0m\u001b[0mformat\u001b[0m\u001b[1;33m(\u001b[0m\u001b[0mi\u001b[0m\u001b[1;33m.\u001b[0m\u001b[0mget\u001b[0m\u001b[1;33m(\u001b[0m\u001b[1;34m'description'\u001b[0m\u001b[1;33m,\u001b[0m\u001b[1;34m''\u001b[0m\u001b[1;33m)\u001b[0m\u001b[1;33m.\u001b[0m\u001b[0mencode\u001b[0m\u001b[1;33m(\u001b[0m\u001b[1;34m'utf-8'\u001b[0m\u001b[1;33m,\u001b[0m\u001b[1;34m'ignore'\u001b[0m\u001b[1;33m)\u001b[0m\u001b[1;33m)\u001b[0m\u001b[1;33m\u001b[0m\u001b[0m\n",
      "\u001b[0;31mUnicodeEncodeError\u001b[0m: 'ascii' codec can't encode character u'\\u2019' in position 7: ordinal not in range(128)"
     ]
    }
   ],
   "source": [
    "# Test print the dataset to see how it went\n",
    "for i in feeds['data']:\n",
    "    print \"id : {0}\".format(i.get('id',''))\n",
    "    print \"from : {0}\".format(i.get('from',''))\n",
    "    print \"message : {0}\".format(i.get('message',''))\n",
    "    print \"name : {0}\".format(i.get('name','').encode('utf-8','ignore'))\n",
    "    print \"description : {0}\".format(i.get('description','').encode('utf-8','ignore'))\n",
    "    print \"link : {0}\".format(i.get('link',''))\n",
    "    print \"caption : {0}\".format(i.get('caption',''))\n",
    "    print \"created_time : {0}\".format(i.get('created_time',''))\n",
    "    print \"likes : {0}\".format(i.get('likes',''))\n",
    "    #for j in i:\n",
    "    #    print \" {0} : {1}\".format(j.encode('utf-8', 'ignore'), i[j].encode('utf-8', 'ignore') if isinstance(i[j], str) else i[j])\n",
    "    print"
   ]
  },
  {
   "cell_type": "code",
   "execution_count": null,
   "metadata": {
    "collapsed": true
   },
   "outputs": [],
   "source": [
    "# Looks swell to me. Now just need to get the generator"
   ]
  },
  {
   "cell_type": "code",
   "execution_count": null,
   "metadata": {
    "collapsed": true
   },
   "outputs": [],
   "source": [
    "# Note that I remove likes here as we can't get the total number due to pagination. \n",
    "# We must query each post individually then join them\n",
    "finaldata = graph.get_all_connections('157938781081987', \n",
    "                              'feed', fields='from,message,name,description,link,caption,created_time')\n",
    "\n",
    "# This runs long on notebook, hence porting to python script to complete the job."
   ]
  },
  {
   "cell_type": "code",
   "execution_count": null,
   "metadata": {
    "collapsed": true
   },
   "outputs": [],
   "source": []
  },
  {
   "cell_type": "code",
   "execution_count": null,
   "metadata": {
    "collapsed": true
   },
   "outputs": [],
   "source": []
  }
 ],
 "metadata": {
  "anaconda-cloud": {},
  "kernelspec": {
   "display_name": "Python [default]",
   "language": "python",
   "name": "python2"
  },
  "language_info": {
   "codemirror_mode": {
    "name": "ipython",
    "version": 2
   },
   "file_extension": ".py",
   "mimetype": "text/x-python",
   "name": "python",
   "nbconvert_exporter": "python",
   "pygments_lexer": "ipython2",
   "version": "2.7.12"
  }
 },
 "nbformat": 4,
 "nbformat_minor": 1
}
